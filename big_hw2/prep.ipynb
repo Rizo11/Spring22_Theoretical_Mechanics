{
 "cells": [
  {
   "cell_type": "code",
   "execution_count": 1,
   "metadata": {},
   "outputs": [],
   "source": [
    "import pandas as pd"
   ]
  },
  {
   "cell_type": "code",
   "execution_count": 2,
   "metadata": {},
   "outputs": [],
   "source": [
    "params = {\n",
    "    15:[0, 0, 0],\n",
    "    45:[0.6, 1.91, 2.04],\n",
    "    135:[2.6, 4.12, 4.25]\n",
    "}\n",
    "TESTS = 3\n",
    "\n",
    "angles = [15, 45, 135]\n"
   ]
  },
  {
   "cell_type": "code",
   "execution_count": 5,
   "metadata": {},
   "outputs": [
    {
     "name": "stderr",
     "output_type": "stream",
     "text": [
      "/tmp/ipykernel_49907/4174244755.py:18: SettingWithCopyWarning: \n",
      "A value is trying to be set on a copy of a slice from a DataFrame\n",
      "\n",
      "See the caveats in the documentation: https://pandas.pydata.org/pandas-docs/stable/user_guide/indexing.html#returning-a-view-versus-a-copy\n",
      "  df['time_diff'][0] = 0\n",
      "/tmp/ipykernel_49907/4174244755.py:18: SettingWithCopyWarning: \n",
      "A value is trying to be set on a copy of a slice from a DataFrame\n",
      "\n",
      "See the caveats in the documentation: https://pandas.pydata.org/pandas-docs/stable/user_guide/indexing.html#returning-a-view-versus-a-copy\n",
      "  df['time_diff'][0] = 0\n",
      "/tmp/ipykernel_49907/4174244755.py:18: SettingWithCopyWarning: \n",
      "A value is trying to be set on a copy of a slice from a DataFrame\n",
      "\n",
      "See the caveats in the documentation: https://pandas.pydata.org/pandas-docs/stable/user_guide/indexing.html#returning-a-view-versus-a-copy\n",
      "  df['time_diff'][0] = 0\n",
      "/tmp/ipykernel_49907/4174244755.py:18: SettingWithCopyWarning: \n",
      "A value is trying to be set on a copy of a slice from a DataFrame\n",
      "\n",
      "See the caveats in the documentation: https://pandas.pydata.org/pandas-docs/stable/user_guide/indexing.html#returning-a-view-versus-a-copy\n",
      "  df['time_diff'][0] = 0\n",
      "/tmp/ipykernel_49907/4174244755.py:18: SettingWithCopyWarning: \n",
      "A value is trying to be set on a copy of a slice from a DataFrame\n",
      "\n",
      "See the caveats in the documentation: https://pandas.pydata.org/pandas-docs/stable/user_guide/indexing.html#returning-a-view-versus-a-copy\n",
      "  df['time_diff'][0] = 0\n",
      "/tmp/ipykernel_49907/4174244755.py:18: SettingWithCopyWarning: \n",
      "A value is trying to be set on a copy of a slice from a DataFrame\n",
      "\n",
      "See the caveats in the documentation: https://pandas.pydata.org/pandas-docs/stable/user_guide/indexing.html#returning-a-view-versus-a-copy\n",
      "  df['time_diff'][0] = 0\n",
      "/tmp/ipykernel_49907/4174244755.py:18: SettingWithCopyWarning: \n",
      "A value is trying to be set on a copy of a slice from a DataFrame\n",
      "\n",
      "See the caveats in the documentation: https://pandas.pydata.org/pandas-docs/stable/user_guide/indexing.html#returning-a-view-versus-a-copy\n",
      "  df['time_diff'][0] = 0\n",
      "/tmp/ipykernel_49907/4174244755.py:18: SettingWithCopyWarning: \n",
      "A value is trying to be set on a copy of a slice from a DataFrame\n",
      "\n",
      "See the caveats in the documentation: https://pandas.pydata.org/pandas-docs/stable/user_guide/indexing.html#returning-a-view-versus-a-copy\n",
      "  df['time_diff'][0] = 0\n",
      "/tmp/ipykernel_49907/4174244755.py:18: SettingWithCopyWarning: \n",
      "A value is trying to be set on a copy of a slice from a DataFrame\n",
      "\n",
      "See the caveats in the documentation: https://pandas.pydata.org/pandas-docs/stable/user_guide/indexing.html#returning-a-view-versus-a-copy\n",
      "  df['time_diff'][0] = 0\n"
     ]
    }
   ],
   "source": [
    "for test_angle in params:\n",
    "\n",
    "    for test_no in range(len(params[test_angle])):\n",
    "\n",
    "        file_name = f'test{test_no + 1}_{test_angle}.csv'\n",
    "\n",
    "        # Read the CSV file\n",
    "        df = pd.read_csv(f'./raw/{file_name}')\n",
    "\n",
    "        # Convert the 'time' column to datetime format\n",
    "        df['time'] = pd.to_datetime(df['time'])\n",
    "\n",
    "        # Calculate time differences in seconds\n",
    "        df['time_diff'] = (df['time'] - df['time'].shift(1)).dt.total_seconds()\n",
    "\n",
    "        # Drop the first row since it won't have a valid time difference\n",
    "        # df = df.dropna()\n",
    "        df['time_diff'][0] = 0\n",
    "\n",
    "        # Drop the 'time' column\n",
    "        df.drop(columns=['time'], inplace=True)\n",
    "\n",
    "        # Reorder the columns to place 'time_diff' at the beginning\n",
    "        cols = df.columns.tolist()\n",
    "        cols.insert(0, cols.pop(cols.index('time_diff')))\n",
    "        df = df.reindex(columns=cols)\n",
    "\n",
    "        df['angle'] -= params[test_angle][test_no]\n",
    "\n",
    "        # Save the 'time_diff' column to a new CSV file\n",
    "        df.to_csv(f'./clean/{file_name}', index=False)\n"
   ]
  }
 ],
 "metadata": {
  "kernelspec": {
   "display_name": "dl-nma",
   "language": "python",
   "name": "dl-nma"
  },
  "language_info": {
   "codemirror_mode": {
    "name": "ipython",
    "version": 3
   },
   "file_extension": ".py",
   "mimetype": "text/x-python",
   "name": "python",
   "nbconvert_exporter": "python",
   "pygments_lexer": "ipython3",
   "version": "3.11.4"
  }
 },
 "nbformat": 4,
 "nbformat_minor": 2
}
