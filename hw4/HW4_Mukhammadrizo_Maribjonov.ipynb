{
 "cells": [
  {
   "cell_type": "markdown",
   "metadata": {
    "id": "aG-3QfCF_qty"
   },
   "source": [
    "# Homework 4"
   ]
  },
  {
   "cell_type": "markdown",
   "metadata": {
    "collapsed": false
   },
   "source": [
    "A v statice ne nado delat' simulation, he-he :)"
   ]
  },
  {
   "cell_type": "markdown",
   "metadata": {
    "collapsed": false
   },
   "source": [
    "# Task 1"
   ]
  },
  {
   "cell_type": "code",
   "execution_count": 4,
   "metadata": {
    "ExecuteTime": {
     "end_time": "2024-02-17T11:56:20.596660500Z",
     "start_time": "2024-02-17T11:56:20.539092300Z"
    },
    "collapsed": false
   },
   "outputs": [
    {
     "name": "stdout",
     "output_type": "stream",
     "text": [
      "[{r_ax: 7.91778711434735, r_ay: 13.4192286340600, r_b: -2.97307621135332, r_e: 11.6607142857143, r_f: 5.67857142857143, r_cx: -4.91778711434735, r_cy: -2.25000000000000, r_dx: -4.91778711434735, r_dy: 2.25000000000000}]\n",
      "0\n"
     ]
    }
   ],
   "source": [
    "import numpy as np\n",
    "from sympy import solve, diff, sin, cos, lambdify, sqrt\n",
    "from sympy.abc import symbols\n",
    "\n",
    "\n",
    "def multify(params, *args):\n",
    "    lambdas = []\n",
    "    for func in args:\n",
    "        lambdas.append(lambdify([params], func))\n",
    "\n",
    "    return lambdas\n",
    "\n",
    "\n",
    "r_ax, r_ay, r_b, r_e, r_f, r_cx, r_cy, r_dx, r_dy = symbols('r_ax, r_ay, r_b, r_e, r_f, r_cx, r_cy, r_dx, r_dy')\n",
    "\n",
    "\n",
    "OA = 2\n",
    "AB = 4\n",
    "BC = 2\n",
    "CD = 3\n",
    "DE = 1.5\n",
    "EP = 1.5\n",
    "PF = 2\n",
    "p1 = 6\n",
    "p2 = 10\n",
    "m1 = 30\n",
    "q = 1.5\n",
    "alpha = np.radians(30)\n",
    "beta = np.radians(60)\n",
    "\n",
    "f1 = BC * q\n",
    "f2 = CD * q\n",
    "f3 = DE * q\n",
    "\n",
    "# we suppose that r_cx = r_cx_ac = -r_cx_cd, r_cy = r_cy_ac = -r_cy_cd\n",
    "# we suppose that r_dx = r_dx_cd = -r_dx_df, r_dy = r_dy_cd = -r_dy_df\n",
    "\n",
    "# Rod 1\n",
    "rod1_x = -p1 * cos(beta) + r_ax + r_cx\n",
    "rod1_y = -p1 * sin(beta) + r_ay + r_b - f1 + r_cy\n",
    "m_a = 2*p1*sin(beta) + m1 + 4*r_b - 5*f1 + 6*r_cy\n",
    "\n",
    "# Rod 2\n",
    "rod2_x = -r_cx + r_dx\n",
    "rod2_y = -r_cy + r_dy - f2\n",
    "m_c = -1.5*f2 + 3*r_dy\n",
    "\n",
    "# Rod 3\n",
    "rod3_x = -r_dx - r_f*cos(alpha)\n",
    "rod3_y = -r_dy - f3 + r_e - p2 + r_f*sin(alpha)\n",
    "m_d = -0.75*f3 + 1.5*r_e - 3*p2 + 5*r_f*sin(alpha)\n",
    "\n",
    "solve_the_system = solve([rod1_x, rod1_y, m_a, rod2_x, rod2_y, m_c, rod3_x, rod3_y, m_d], [r_ax, r_ay, r_b, r_e, r_f, r_cx, r_cy, r_dx, r_dy], dict=True)\n",
    "\n",
    "r_ax_solved = solve_the_system[0][r_ax]\n",
    "r_ay_solved = solve_the_system[0][r_ay]\n",
    "r_b_solved = solve_the_system[0][r_b]\n",
    "r_e_solved = solve_the_system[0][r_e]\n",
    "r_f_solved = solve_the_system[0][r_f]\n",
    "r_cx_solved = solve_the_system[0][r_cx]\n",
    "r_cy_solved = solve_the_system[0][r_cy]\n",
    "r_dx_solved = solve_the_system[0][r_dx]\n",
    "r_dy_solved = solve_the_system[0][r_dy]\n",
    "\n",
    "multi = multify((r_ax, r_ay, r_b, r_e, r_f, r_cx, r_cy, r_dx, r_dy), rod1_x, rod1_y, m_a, rod2_x, rod2_y, m_c, rod3_x, rod3_y, m_d)[0]\n",
    "\n",
    "print(solve_the_system)\n",
    "\n",
    "# Check the solution. O if correct\n",
    "print(multi((r_ax_solved, r_ay_solved, r_b_solved, r_e_solved, r_f_solved, r_cx_solved, r_cy_solved, r_dx_solved, r_dy_solved)))"
   ]
  },
  {
   "cell_type": "markdown",
   "metadata": {
    "collapsed": false
   },
   "source": [
    "# Task 2"
   ]
  },
  {
   "cell_type": "code",
   "execution_count": 9,
   "metadata": {
    "ExecuteTime": {
     "end_time": "2024-02-17T11:56:22.374790700Z",
     "start_time": "2024-02-17T11:56:22.246479Z"
    },
    "collapsed": false
   },
   "outputs": [
    {
     "name": "stdout",
     "output_type": "stream",
     "text": [
      "[{s1: -8.75000000000000, s2: 10.7529065838033, s3: 0.0, s4: -34.4093010681705, s5: 23.0000000000000, s6: 8.00390529679106}]\n",
      "0\n"
     ]
    }
   ],
   "source": [
    "import numpy as np\n",
    "from sympy import solve, diff, sin, cos, lambdify, sqrt\n",
    "from sympy.abc import symbols\n",
    "\n",
    "\n",
    "def multify(params, *args):\n",
    "    lambdas = []\n",
    "    for func in args:\n",
    "        lambdas.append(lambdify([params], func))\n",
    "\n",
    "    return lambdas\n",
    "\n",
    "s1, s2, s3, s4, s5, s6 = symbols('s1, s2, s3, s4, s5, s6')\n",
    "\n",
    "g = 10\n",
    "p = 20\n",
    "a = 8.5\n",
    "b = 2.5\n",
    "c = 3.5\n",
    "d = 2\n",
    "\n",
    "\n",
    "a2 = np.arcsin(c / np.sqrt(b**2 + c**2))\n",
    "a3 = np.arcsin(c / np.sqrt(a**2 + c**2))\n",
    "a4 = a2\n",
    "a6 = np.arcsin(d / np.sqrt(c**2 + d**2))\n",
    "\n",
    "# cos_a2 = sqrt(1 - sin_a2**2)\n",
    "# cos_a3 = sqrt(1 - sin_a3**2)\n",
    "# cos_a4 = sqrt(1 - sin_a4**2)\n",
    "# cos_a6 = sqrt(1 - sin_a6**2)\n",
    "\n",
    "alpha = np.arcsin(c / np.sqrt(a**2 + c**2))\n",
    "beta = np.arcsin(c / np.sqrt(c**2 + b**2))\n",
    "gamma = np.arcsin(d / np.sqrt(b**2 + d**2))\n",
    "\n",
    "# Moments\n",
    "m_x = -g * (b/2) -s3*sin(alpha)*b + s6*sin(gamma)*b\n",
    "m_y = g * (a/2) - s6*sin(gamma)*a + s2*sin(beta)*a + s1*a\n",
    "m_z = s2*cos(beta)*a - s3*cos(alpha)*b - s6*cos(gamma)*a\n",
    "\n",
    "# Reaction forces\n",
    "forces_x = s3*cos(alpha)\n",
    "forces_y = p + s2*cos(beta) + s4*cos(beta) - s6*cos(gamma)\n",
    "forces_z = -s1 -s2*sin(beta) - s3*sin(alpha) - s4*sin(beta) - s5 + s6*sin(gamma) - g\n",
    "\n",
    "solve_the_system = solve([m_x, m_y, m_z, forces_x, forces_y, forces_z], [s1, s2, s3, s4, s5, s6], dict=True)\n",
    "\n",
    "s1_solved = solve_the_system[0][s1]\n",
    "s2_solved = solve_the_system[0][s2]\n",
    "s3_solved = solve_the_system[0][s3]\n",
    "s4_solved = solve_the_system[0][s4]\n",
    "s5_solved = solve_the_system[0][s5]\n",
    "s6_solved = solve_the_system[0][s6]\n",
    "\n",
    "multi = multify((s1, s2, s3, s4, s5, s6), m_x, m_y, m_z, forces_x, forces_y, forces_z)[0]\n",
    "\n",
    "print(solve_the_system)\n",
    "\n",
    "# Check the solution. O if correct\n",
    "print(multi((s1_solved, s2_solved, s3_solved, s4_solved, s5_solved, s6_solved)))"
   ]
  }
 ],
 "metadata": {
  "colab": {
   "provenance": []
  },
  "kernelspec": {
   "display_name": "dl-nma",
   "language": "python",
   "name": "dl-nma"
  },
  "language_info": {
   "codemirror_mode": {
    "name": "ipython",
    "version": 3
   },
   "file_extension": ".py",
   "mimetype": "text/x-python",
   "name": "python",
   "nbconvert_exporter": "python",
   "pygments_lexer": "ipython3",
   "version": "3.11.4"
  }
 },
 "nbformat": 4,
 "nbformat_minor": 0
}
